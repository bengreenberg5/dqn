{
 "cells": [
  {
   "cell_type": "markdown",
   "id": "fbec830a",
   "metadata": {},
   "source": [
    "## Training a DQN\n",
    "\n",
    "We train the value function to approximate the Bellman equation:\n",
    "\n",
    "Q(s, a) = max_a' Q(s', a')\n",
    "\n",
    "First we train an agent at CartPole: given a representation of the state (cart position, cart velocity, pole position, pole velocity) at every time step, move left and right to keep the pole upright. The agent receives 1 reward as long as the pole is \"alive\" i.e. above a certain angle with the horizontal."
   ]
  },
  {
   "cell_type": "code",
   "execution_count": 5,
   "id": "76608ef8",
   "metadata": {},
   "outputs": [],
   "source": [
    "from dqn.agent import *\n",
    "from dqn.replay import *\n",
    "from dqn.run import *"
   ]
  },
  {
   "cell_type": "code",
   "execution_count": null,
   "id": "35ae3467",
   "metadata": {},
   "outputs": [],
   "source": [
    "def evaluate(env_name, agent):\n",
    "    pass  # TODO"
   ]
  },
  {
   "cell_type": "code",
   "execution_count": null,
   "id": "12eb0e3f",
   "metadata": {},
   "outputs": [],
   "source": [
    "env_name = \"CartPole-v1\"\n",
    "env = gym.make()\n",
    "\n",
    "# TODO set hyperparams\n",
    "cartpole_agent = train(\n",
    "    env,\n",
    "    env_name=env_name\n",
    "    history_length=1,\n",
    "    num_episodes=10_000,\n",
    "    minibatch_size=32,\n",
    "    exp_buffer_size=500_000,\n",
    "    epsilon_init=1.0,\n",
    "    epsilon_final=0.01,\n",
    "    epsilon_final_frame=200_000,\n",
    "    replay_start_frame=5_000,\n",
    "    q_target_update_freq=1_000,\n",
    "    learning_rate=1e-4,\n",
    "    momentum=0.0,\n",
    "    discount_factor=0.99,\n",
    "    save_every=0,\n",
    "    dirname=\"\"\n",
    ")"
   ]
  },
  {
   "cell_type": "code",
   "execution_count": 4,
   "id": "88731283",
   "metadata": {},
   "outputs": [],
   "source": [
    "evaluate(env_name, cartpole_agent)"
   ]
  },
  {
   "cell_type": "code",
   "execution_count": null,
   "id": "9b58debe",
   "metadata": {},
   "outputs": [],
   "source": []
  }
 ],
 "metadata": {
  "kernelspec": {
   "display_name": "Python 3 (ipykernel)",
   "language": "python",
   "name": "python3"
  },
  "language_info": {
   "codemirror_mode": {
    "name": "ipython",
    "version": 3
   },
   "file_extension": ".py",
   "mimetype": "text/x-python",
   "name": "python",
   "nbconvert_exporter": "python",
   "pygments_lexer": "ipython3",
   "version": "3.9.1"
  }
 },
 "nbformat": 4,
 "nbformat_minor": 5
}
